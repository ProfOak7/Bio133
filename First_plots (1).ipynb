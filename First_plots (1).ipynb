{
 "cells": [
  {
   "cell_type": "markdown",
   "id": "studied-baltimore",
   "metadata": {},
   "source": [
    "## Create your first graph in Jupyter notebook\n",
    "\n",
    "Use the code below to create a graph in jupyter notebook"
   ]
  },
  {
   "cell_type": "code",
   "execution_count": null,
   "id": "noticed-bundle",
   "metadata": {},
   "outputs": [],
   "source": [
    "#Before beginning this assignment, you need to have miniconda3 installed on your computer. \n",
    "#You can find installation instructions here: https://docs.conda.io/en/latest/miniconda.html\n",
    "\n"
   ]
  },
  {
   "cell_type": "code",
   "execution_count": null,
   "id": "proved-maine",
   "metadata": {},
   "outputs": [],
   "source": [
    "#Next, you will need to access the terminal (command on a PC and terminal on a mac) and \n",
    "#create a conda environment. You can create an environment with the name \"Bio133\" by \n",
    "#typing the following code in your terminal:\n",
    "\n",
    "conda create -n Bio133 \n",
    "\n",
    "#Now that the environment is created, you can access it by typing the following command:\n",
    "\n",
    "conda activate Bio133 "
   ]
  },
  {
   "cell_type": "code",
   "execution_count": null,
   "id": "continent-updating",
   "metadata": {},
   "outputs": [],
   "source": [
    "#Now that you have activated your new environment, you will need to install some packages\n",
    "#into it. For our lab today, you will need to install matplotlib, pandas, and jupyter notebook.\n",
    "#Install each component by entering the following commands:\n",
    "\n",
    "conda install matplotlib #This will install matplotlib in your environment\n",
    "\n",
    "conda install pandas #This will install pandas in your environment\n",
    "\n",
    "conda install jupyter notebook #This will install jupyter lab notebook in your environment\n"
   ]
  },
  {
   "cell_type": "code",
   "execution_count": null,
   "id": "hourly-footwear",
   "metadata": {},
   "outputs": [],
   "source": [
    "#Now you are ready to access jupyter notebook. \n",
    "#You can do so by entering the following command into your environment:\n",
    "\n",
    "Jupyter notebook"
   ]
  },
  {
   "cell_type": "code",
   "execution_count": null,
   "id": "sapphire-georgia",
   "metadata": {},
   "outputs": [],
   "source": [
    "#One you are into Jupyter notebook, you will create a new file (Python 3 file). \n",
    "#You can name this file whatever you want. In this file, we will create a graph \n",
    "#by running the following code:"
   ]
  },
  {
   "cell_type": "code",
   "execution_count": 1,
   "id": "answering-profession",
   "metadata": {},
   "outputs": [
    {
     "data": {
      "image/png": "[encoded data removed]",
      "text/plain": [
       "<Figure size 432x288 with 1 Axes>"
      ]
     },
     "metadata": {
      "needs_background": "light"
     },
     "output_type": "display_data"
    }
   ],
   "source": [
    "# importing the required module \n",
    "import matplotlib.pyplot as plt \n",
    "  \n",
    "# x axis values \n",
    "x = [0,0.5,1,2,3, 4, 5,6,7,8] \n",
    "\n",
    "# corresponding y axis values \n",
    "y = [80, 80, 122,130,135,125,100,92,83,81] \n",
    "  \n",
    "# plotting the points  \n",
    "plt.plot(x, y) \n",
    "  \n",
    "# naming the x axis \n",
    "plt.xlabel('time (min)') \n",
    "# naming the y axis \n",
    "plt.ylabel('heart rate (bpm)') \n",
    "  \n",
    "# giving a title to my graph \n",
    "plt.title('Heart rate during exercise') \n",
    "  \n",
    "# function to show the plot \n",
    "plt.show() \n",
    "\n",
    "\n"
   ]
  },
  {
   "cell_type": "code",
   "execution_count": null,
   "id": "resident-ballot",
   "metadata": {},
   "outputs": [],
   "source": []
  }
 ],
 "metadata": {
  "kernelspec": {
   "display_name": "Python 3",
   "language": "python",
   "name": "python3"
  },
  "language_info": {
   "codemirror_mode": {
    "name": "ipython",
    "version": 3
   },
   "file_extension": ".py",
   "mimetype": "text/x-python",
   "name": "python",
   "nbconvert_exporter": "python",
   "pygments_lexer": "ipython3",
   "version": "3.8.8"
  }
 },
 "nbformat": 4,
 "nbformat_minor": 5
}
